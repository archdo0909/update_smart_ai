{
 "cells": [
  {
   "cell_type": "code",
   "execution_count": null,
   "metadata": {},
   "outputs": [],
   "source": [
    "# compress to .tar format\n",
    "# !tar cvf update_smart_ai.tar ./update_smart_ai\n",
    "\n",
    "# extract .tar file\n",
    "!tar xvf ./update_smart_ai.tar\n",
    "\n",
    "# pexpect file\n",
    "%cd ./update_smart_ai/pexpect-master\n",
    "!python3 setup.py install --user\n",
    "\n",
    "# uninstall previous version pymodi\n",
    "!pip3 uninstall pymodi -y\n",
    "\n",
    "# install pymodi 1.0.1\n",
    "%cd ../pymodi-pimodi/\n",
    "!python3 setup.py install --user\n",
    "\n",
    "# Modify fan speed\n",
    "%cd ../\n",
    "!sudo rm /usr/src/rpi-daemon-py/_ctrl_fan.py\n",
    "!sudo cp ./_ctrl_fan.py /usr/src/rpi-daemon-py/\n",
    "\n",
    "# contents & config update\n",
    "!clear\n",
    "!sudo python3 update.py\n",
    "%cd ../\n",
    "!rm -rf update_smart_ai/"
   ]
  },
  {
   "cell_type": "code",
   "execution_count": null,
   "metadata": {},
   "outputs": [],
   "source": []
  }
 ],
 "metadata": {
  "kernelspec": {
   "display_name": "Python 3",
   "language": "python",
   "name": "python3"
  },
  "language_info": {
   "codemirror_mode": {
    "name": "ipython",
    "version": 3
   },
   "file_extension": ".py",
   "mimetype": "text/x-python",
   "name": "python",
   "nbconvert_exporter": "python",
   "pygments_lexer": "ipython3",
   "version": "3.7.6"
  }
 },
 "nbformat": 4,
 "nbformat_minor": 4
}
