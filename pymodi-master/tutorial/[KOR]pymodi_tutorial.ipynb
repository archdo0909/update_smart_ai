{
 "cells": [
  {
   "cell_type": "markdown",
   "metadata": {
    "colab_type": "text",
    "id": "AFGFdjz18Kb5"
   },
   "source": [
    "# 초심자를 위한 PyMODI 튜토리얼\n",
    "\n",
    "<img src=\"https://github.com/LUXROBO/pymodi/blob/master/docs/_static/img/logo.png?raw=true\" height=150 width=500>\n"
   ]
  },
  {
   "cell_type": "markdown",
   "metadata": {
    "colab_type": "text",
    "id": "LheGlpYj9jI1"
   },
   "source": [
    "# PyMODI 설치하기\n",
    "\n",
    "### 컴퓨터에 파이모디가 설치하고 싶을 때\n",
    "\n",
    "파이썬이 컴퓨터에 설치되어 있다면, PyMODI 를 설치하는 것은 pip 라는 커맨드를 이용해 설치할 수 있습니다.\n",
    "커맨드창 (윈도우 + r) 을 열고 다음 내용을 입력하면 설치가 가능합니다.\n",
    "\n",
    "    $ python -m pip install pymodi --user\n",
    "\n",
    "만약 git clone 을 이용해 pymodi 를 다운 받았다면, 다음과 같은 커맨드를 사용하면 됩니다.\n",
    "\n",
    "    $ python setup.py install --user\n",
    "    \n",
    "\n",
    "### 하지만 지금은 Jupyter 상에서 설치를 해보도록 하겠습니다.\n",
    "지금부터 코드 안에서 ctrl + enter 를 누르거나 상다 배너의 run 을 누르면 지금 활성화되어 있는 코드가 실행될 것입니다.\n",
    "아래 코드를 클리하고, ctrl + enter 를 눌러 실행해 보세요.\n",
    "\n",
    "코드 박스 좌측 상단의 ln \\[*\\] 가 숫자로 바뀌면, 실행이 끝난 것입니다."
   ]
  },
  {
   "cell_type": "code",
   "execution_count": 1,
   "metadata": {
    "colab": {
     "base_uri": "https://localhost:8080/",
     "height": 34
    },
    "colab_type": "code",
    "id": "h3buHb5D8lVb",
    "outputId": "c3215ee2-f971-4729-d66e-8599cf8b1214"
   },
   "outputs": [
    {
     "name": "stdout",
     "output_type": "stream",
     "text": [
      "Requirement already satisfied: pymodi in c:\\users\\sebeo\\anaconda3\\lib\\site-packages (0.9.0)\n",
      "Requirement already satisfied: pyserial in c:\\users\\sebeo\\anaconda3\\lib\\site-packages (from pymodi) (3.4)\n",
      "Requirement already satisfied: enum34 in c:\\users\\sebeo\\anaconda3\\lib\\site-packages (from pymodi) (1.1.10)\n",
      "Requirement already satisfied: requests in c:\\users\\sebeo\\anaconda3\\lib\\site-packages (from pymodi) (2.22.0)\n",
      "Requirement already satisfied: python-can in c:\\users\\sebeo\\anaconda3\\lib\\site-packages (from pymodi) (3.3.3)\n",
      "Requirement already satisfied: idna<2.9,>=2.5 in c:\\users\\sebeo\\anaconda3\\lib\\site-packages (from requests->pymodi) (2.8)\n",
      "Requirement already satisfied: chardet<3.1.0,>=3.0.2 in c:\\users\\sebeo\\anaconda3\\lib\\site-packages (from requests->pymodi) (3.0.4)\n",
      "Requirement already satisfied: urllib3!=1.25.0,!=1.25.1,<1.26,>=1.21.1 in c:\\users\\sebeo\\anaconda3\\lib\\site-packages (from requests->pymodi) (1.24.2)\n",
      "Requirement already satisfied: certifi>=2017.4.17 in c:\\users\\sebeo\\anaconda3\\lib\\site-packages (from requests->pymodi) (2019.6.16)\n",
      "Requirement already satisfied: wrapt~=1.10 in c:\\users\\sebeo\\anaconda3\\lib\\site-packages (from python-can->pymodi) (1.11.2)\n",
      "Requirement already satisfied: aenum in c:\\users\\sebeo\\anaconda3\\lib\\site-packages (from python-can->pymodi) (2.2.3)\n",
      "Requirement already satisfied: windows-curses; platform_system == \"Windows\" in c:\\users\\sebeo\\anaconda3\\lib\\site-packages (from python-can->pymodi) (2.1.0)\n"
     ]
    }
   ],
   "source": [
    "# PyMODI 를 설치해 보자\n",
    "import sys\n",
    "\n",
    "!{sys.executable} -m pip install pymodi\n",
    "    "
   ]
  },
  {
   "cell_type": "markdown",
   "metadata": {
    "colab_type": "text",
    "id": "wD8Kxz7N-Sxl"
   },
   "source": [
    "PyMODI의 설치가 끝났다면, PyMODI 를 사용할 수 있게, 패키지를 가져올 것입니다. 파이썬에서 설치한 패키지를 가져오는 것은 import 라는 키워드로 진행됩니다. 다음 코드 블럭을 실행하여 PyMODI 패키지를 가져오세요."
   ]
  },
  {
   "cell_type": "code",
   "execution_count": 2,
   "metadata": {
    "colab": {
     "base_uri": "https://localhost:8080/",
     "height": 204
    },
    "colab_type": "code",
    "id": "DRLG6UiI-kJ8",
    "outputId": "5b6432c9-a4d7-4efb-fac8-7260559e47cb"
   },
   "outputs": [
    {
     "name": "stdout",
     "output_type": "stream",
     "text": [
      "Running PyMODI (v0.9.0)\n"
     ]
    }
   ],
   "source": [
    "import modi"
   ]
  },
  {
   "cell_type": "markdown",
   "metadata": {},
   "source": [
    "제대로 임포트가 되었다면, 현재 PyMODI 의 버전이 표시될 것입니다."
   ]
  },
  {
   "cell_type": "markdown",
   "metadata": {
    "colab_type": "text",
    "id": "U-Mx893m-6u1"
   },
   "source": [
    "# 파이썬 기초 다시보기\n",
    "\n",
    "본격적으로 PyMODI 를 이용하기 앞서, 기본적인 파이썬 문법을 돌아보겠습니다."
   ]
  },
  {
   "cell_type": "markdown",
   "metadata": {},
   "source": [
    "### Hello World\n",
    "\n",
    "헬로 월드를 화면에 띄워보는 것은 언어를 배우는 좋은 시작점입니다.\n",
    "파이썬에서 화면에 무언가를 표시하고 싶을 때는, print 라는 키워드를 사용합니다.\n",
    "\n",
    "```python\n",
    "print(<출력하고 싶은 것>)\n",
    "```\n",
    "다음 코드 블럭을 실행하여 \"Hello World\" 를 화면에 띄워봅시다."
   ]
  },
  {
   "cell_type": "code",
   "execution_count": null,
   "metadata": {},
   "outputs": [],
   "source": [
    "print(\"Hello World\")"
   ]
  },
  {
   "cell_type": "markdown",
   "metadata": {},
   "source": [
    "### 변수\n",
    "\n",
    "파이썬에서는 자신이 원하는 값을 담기 위한 변수라는 것이 존재합니다. 변수의 이름은 자신이 원하는 대로 만들 수가 있고, = 을 이용하여 변수에 값을 담습니다. 다음 코드 블럭에서 num 이라는 변수를 생성하여 5라는 값을 담아 보겠습니다."
   ]
  },
  {
   "cell_type": "code",
   "execution_count": null,
   "metadata": {},
   "outputs": [],
   "source": [
    "num = 5"
   ]
  },
  {
   "cell_type": "markdown",
   "metadata": {},
   "source": [
    "이제 num 에 5가 담겨 있기 때문에, num 을 부를 때마다 숫자 5 로 여겨지게 됩니다. 아래 코드에서는 num 에 2를 더한 값을 표시합니다."
   ]
  },
  {
   "cell_type": "code",
   "execution_count": null,
   "metadata": {},
   "outputs": [],
   "source": [
    "print(num + 2)"
   ]
  },
  {
   "cell_type": "markdown",
   "metadata": {},
   "source": [
    "다만, 변수를 부를 때에는, 따옴표를 사용해서는 안됩니다."
   ]
  },
  {
   "cell_type": "code",
   "execution_count": null,
   "metadata": {},
   "outputs": [],
   "source": [
    "print(\"num\")"
   ]
  },
  {
   "cell_type": "markdown",
   "metadata": {},
   "source": [
    "따옴표로 감싸져 있는 텍스트는 변수가 아니라 문자열 그대로를 의미하게 됩니다."
   ]
  },
  {
   "cell_type": "markdown",
   "metadata": {},
   "source": [
    "### 조건문\n",
    "\n",
    "코드를 작성하다 보면, 특정 조건에만 실행하고 싶은 부분이 있을 수 있습니다. 파이썬에서는 if 문을 이용하여 조건을 확인합니다.\n",
    "\n",
    "```python\n",
    "if <조건>:\n",
    "    <실행할 것>\n",
    "```\n",
    "위 코드는 조건이 만족할 때만 if 문 안의 코드를 실행합니다.\n",
    "\n",
    "파이썬에서 활용할 수 있는 조건은 다음과 같은 것들이 있습니다.\n",
    "\n",
    "* True, False: 진리값\n",
    "* == : 같을 때\n",
    "* \\> : 클 때\n",
    "* \\>= : 크거나 같을 때\n",
    "* < : 작을 때\n",
    "* <= : 작거나 같을 때\n",
    "* not : 부정\n",
    "\n",
    "아래 코드 블럭은 num 이 10 보다 클 때만 화면에 표시할 것입니다."
   ]
  },
  {
   "cell_type": "code",
   "execution_count": null,
   "metadata": {},
   "outputs": [],
   "source": [
    "num = 5 # num 에 5를 담는다.\n",
    "if num > 10: # num 이 10보다 크다면\n",
    "    print(num) # num 을 프린트하라.\n",
    "num = 15\n",
    "if num > 10:\n",
    "    print(num)"
   ]
  },
  {
   "cell_type": "markdown",
   "metadata": {},
   "source": [
    "여러 개의 조건문을 이을 수도 있습니다. if 문 다음에 elif 문을 이어서 작성하면, 위의 조건문들이 실패하고, elif 안의 조건이 만족할 때, 코드가 실행됩니다. 만약 모든 if 문, elif 문이 실패한다면 else 문 안의 코드가 실행됩니다."
   ]
  },
  {
   "cell_type": "code",
   "execution_count": null,
   "metadata": {},
   "outputs": [],
   "source": [
    "num = 15\n",
    "if num > 15:\n",
    "    print(\"Bigger than 15!!\")\n",
    "elif num > 10:\n",
    "    print(\"Bigger than 10!!\")\n",
    "else:\n",
    "    print(\"Less than 10!!\")\n"
   ]
  },
  {
   "cell_type": "markdown",
   "metadata": {},
   "source": [
    "### 루프\n",
    "\n",
    "컴퓨터의 힘은 반복적인 작업을 쉽고 빠르게 할 수 있다는 점입니다. 이러한 반복을 하기 위해 파이썬에서는 For 문과 While 문을 이용합니다."
   ]
  },
  {
   "cell_type": "markdown",
   "metadata": {},
   "source": [
    "#### For 문\n",
    "\n",
    "For 문은 일정 횟수만큼 반복하고 싶을 때에 사용합니다. For 문의 문법은 다음과 같습니다.\n",
    "\n",
    "```python\n",
    "for i in range(<횟수>):\n",
    "    <실행할 코드>\n",
    "```\n",
    "아래 코드는 0 부터 10개의 숫자를 출력합니다."
   ]
  },
  {
   "cell_type": "code",
   "execution_count": null,
   "metadata": {},
   "outputs": [],
   "source": [
    "for i in range(10):\n",
    "    print(i)"
   ]
  },
  {
   "cell_type": "markdown",
   "metadata": {},
   "source": [
    "위의 방법을 이용해서 0부터 100까지의 숫자를 모두 더할 수 있습니다."
   ]
  },
  {
   "cell_type": "code",
   "execution_count": null,
   "metadata": {},
   "outputs": [],
   "source": [
    "sum = 0 # sum 이라는 변수를 만들어서 0에서 시작한다\n",
    "for i in range(101): # 0 부터 100까지 반복한다.\n",
    "    sum = sum + i # sum 값에 i 를 계속 더한다.\n",
    "\n",
    "print(sum) # 합을 출력한다"
   ]
  },
  {
   "cell_type": "markdown",
   "metadata": {},
   "source": [
    "#### While 문\n",
    "\n",
    "While 문은 조건이 만족할 때에 계속 안의 코드를 반복합니다.\n",
    "\n",
    "```python\n",
    "while <조건>:\n",
    "    <실행할 코드>\n",
    "```\n",
    "\n",
    "조건이 참일 동안 코드를 실행하고, 조건이 거짓이 되는 순간 루프를 나오게 됩니다."
   ]
  },
  {
   "cell_type": "code",
   "execution_count": null,
   "metadata": {},
   "outputs": [],
   "source": [
    "num = 0\n",
    "while num < 10: # num 이 10 보다 작은 동안\n",
    "    print(num) # 수를 출력한다.\n",
    "    num = num + 1 # num 에 1을 더한다."
   ]
  },
  {
   "cell_type": "markdown",
   "metadata": {},
   "source": [
    "루프는 break 이라는 키워드로 인위적으로 탈출할 수 있습니다."
   ]
  },
  {
   "cell_type": "code",
   "execution_count": null,
   "metadata": {},
   "outputs": [],
   "source": [
    "num = 0\n",
    "while True: # 조건이 항상 참이므로 계속 루프가 실행된다.\n",
    "    num = num + 1 # num에 1을 더한다.\n",
    "    if num > 10: # num 이 10보다 크다면\n",
    "        break # 루프를 탈출한다.\n",
    "print(num) # 마지막 num의 값을 출력한다"
   ]
  },
  {
   "cell_type": "markdown",
   "metadata": {},
   "source": [
    "이번에는 while 문을 이용해서 0부터 100까지 값을 더해보겠습니다. 아래 코드를 완성해서 올바른 답을 구해보세요!"
   ]
  },
  {
   "cell_type": "code",
   "execution_count": null,
   "metadata": {},
   "outputs": [],
   "source": [
    "sum = 0\n",
    "\n",
    "while <조건>:\n",
    "    <실행할 코드>\n",
    "\n",
    "print(sum)"
   ]
  },
  {
   "cell_type": "markdown",
   "metadata": {},
   "source": [
    "# 첫 번째 PyMODI 프로젝트!!\n",
    "\n",
    "파이썬을 이용해 MODI 모듈을 움직여보겠습니다!\n",
    "\n",
    "PyMODI 에서 각 모듈을 이용하는 방법은 아래 링크에 잘 설명되어 있습니다.\n",
    "\n",
    "https://pymodi.readthedocs.io/en/master/modi.module.html#subpackages\n",
    "\n",
    "아래 튜토리얼을 따라해 보세요!\n"
   ]
  },
  {
   "cell_type": "markdown",
   "metadata": {},
   "source": [
    "### MODI 만들기\n",
    "\n",
    "#### 시작하기에 앞서, 네트워크 모듈에 버튼 모듈 하나, LED 모듈 하나를 연결하고, 컴퓨터에 연결하세요.\n",
    "\n",
    "MODI 모듈을 덩어리를 연결하기 위해, MODI 객체를 생성합니다.\n",
    "다음 코드로 bundle 이라는 이름의 MODI 객체를 만들어 봅시다."
   ]
  },
  {
   "cell_type": "code",
   "execution_count": null,
   "metadata": {
    "colab": {
     "base_uri": "https://localhost:8080/",
     "height": 545
    },
    "colab_type": "code",
    "id": "y1tH5JCT_AUx",
    "outputId": "d7461f3a-023d-4f12-ca7e-2a953b56f57e"
   },
   "outputs": [],
   "source": [
    "import modi # pymodi 패키지 가져오기\n",
    "\n",
    "bundle = modi.MODI() # MODI 만들기"
   ]
  },
  {
   "cell_type": "markdown",
   "metadata": {},
   "source": [
    "MODI 에 연결되면, 연결되어 있는 모듈들이 같이 연결됩니다. 다음과 같은 방식으로 연결된 모듈들을 모두 볼 수 있습니다."
   ]
  },
  {
   "cell_type": "code",
   "execution_count": null,
   "metadata": {},
   "outputs": [],
   "source": [
    "modules = bundle.modules # MODI 에 연결된 모든 모듈들\n",
    "print(modules)"
   ]
  },
  {
   "cell_type": "markdown",
   "metadata": {},
   "source": [
    "모듈의 종류에 따라서 모아서 볼 수도 있습니다."
   ]
  },
  {
   "cell_type": "code",
   "execution_count": null,
   "metadata": {},
   "outputs": [],
   "source": [
    "print(bundle.leds) # LED 모듈들만 모아 보기\n",
    "print(bundle.buttons) # 버튼 모듈들만 모아 보기"
   ]
  },
  {
   "cell_type": "markdown",
   "metadata": {},
   "source": [
    "인덱스를 줌으로써 모듈들 중 하나를 불러올 수도 있습니다.\n",
    "다음 코드는 led, button 이라는 이름의 변수를 만들어, 모듈들을 저장합니다."
   ]
  },
  {
   "cell_type": "code",
   "execution_count": null,
   "metadata": {},
   "outputs": [],
   "source": [
    "led = bundle.leds[0] # 첫 번쨰 LED 모듈을 가져온다.\n",
    "button = bundle.buttons[0] # 첫 번째 버튼 모듈을 가져온다.\n",
    "print(led)\n",
    "print(button)"
   ]
  },
  {
   "cell_type": "markdown",
   "metadata": {},
   "source": [
    "이제 led와 버튼 모듈이 생겼습니다.\n",
    "\n",
    "led 모듈을 이용해서 초록색 불이 들어오게 해 봅시다.\n",
    "\n",
    "led 모듈의 이용 방법은 다음 문서에 정리되어 있습니다.\n",
    "\n",
    "https://pymodi.readthedocs.io/en/master/modi.module.output_module.html#module-modi.module.output_module.led"
   ]
  },
  {
   "cell_type": "code",
   "execution_count": null,
   "metadata": {},
   "outputs": [],
   "source": [
    "led.green = 255 # led 의 초록 rgb 값을 최대값인 255로 설정\n"
   ]
  },
  {
   "cell_type": "markdown",
   "metadata": {},
   "source": [
    "RGB 값을 직접 설정해 줄 수도 있습니다."
   ]
  },
  {
   "cell_type": "code",
   "execution_count": null,
   "metadata": {},
   "outputs": [],
   "source": [
    "led.rgb = 148, 0, 211 # RGB 값을 바이올렛 색인 rgb(148, 0, 211) 로 설정"
   ]
  },
  {
   "cell_type": "markdown",
   "metadata": {},
   "source": [
    "색을 바꾸기만 하는 것은 지루하니, 5번 깜빡이게 해 봅시다!!"
   ]
  },
  {
   "cell_type": "code",
   "execution_count": null,
   "metadata": {},
   "outputs": [],
   "source": [
    "import time\n",
    "\n",
    "led.turn_off() # 먼저, led 를 끕니다.\n",
    "\n",
    "for i in range(5): # 5 번 반복합니다.\n",
    "    led.blue = 255 # 파란색 불을 켭니다.\n",
    "    time.sleep(0.5) # 0.5초 기다립니다.\n",
    "    led.turn_off() # led 를 끕니다.\n",
    "    time.sleep(0.5) # 0.5 초 기다립니다."
   ]
  },
  {
   "cell_type": "markdown",
   "metadata": {},
   "source": [
    "이번에는, 버튼을 누를 때마다, 불이 들어오게 해 보겠습니다."
   ]
  },
  {
   "cell_type": "code",
   "execution_count": null,
   "metadata": {},
   "outputs": [],
   "source": [
    "import time\n",
    "\n",
    "while True: # 계속 반복합니다.\n",
    "    if button.pressed: # 버튼이 눌리면,\n",
    "        led.turn_on() # 불을 켭니다.\n",
    "    elif button.double_clicked: # 더블 클릭 되면\n",
    "        break # 루프 실행을 중지합니다.\n",
    "    else: # 아니면\n",
    "        led.turn_off() # 불을 끕니다.\n",
    "    time.sleep(0.1) # 0.1초 기다립니다.\n"
   ]
  },
  {
   "cell_type": "markdown",
   "metadata": {},
   "source": [
    "마지막으로, 직접 스크립트를 써보겠습니다. button.toggled 를 이용해서, 버튼을 누를 때마다, led 의 색이 초록빛, 빨간빛으로 바뀌게 해 보십시오. button.toggled 은 버튼이 눌릴 때마다 True, False 로 번갈아 바뀝니다."
   ]
  },
  {
   "cell_type": "code",
   "execution_count": null,
   "metadata": {},
   "outputs": [],
   "source": [
    "# 아래 코드를 완성해 보세요\n",
    "\n",
    "import time\n",
    "\n",
    "while True:\n",
    "    if <condition>:\n",
    "        <do something>\n",
    "    else:\n",
    "        <do something>\n",
    "    \n",
    "    if button.double_clicked:\n",
    "        break\n",
    "    time.sleep(0.1)\n"
   ]
  },
  {
   "cell_type": "markdown",
   "metadata": {},
   "source": [
    "# 마무리\n",
    "\n",
    "훌륭합니다! 당신은 PyMODI 튜토리얼을 완수하였습니다.\n",
    "PyMODI 를 이용한 프로젝트는 무엇이든 위와 같은 구조를 가지게 됩니다.\n",
    "\n",
    "MODI 를 만들어서 모듈들을 가져오고, document 를 살펴서 모듈들을 조종하면 됩니다.\n",
    "\n",
    "PyMODI 의 놀라운 힘을 직접 발휘해 보세요!!\n",
    "\n",
    "\n",
    "\n",
    "@ 일반적인 PyMODI 코드의 구조\n",
    "\n",
    "```python\n",
    "import modi # 모디 패키지 임포트\n",
    "\n",
    "bundle = modi.MODI() # MODI 만들기\n",
    "\n",
    "<모듈 이름> = bundle.<모듈 타입>s[<모듈의 인덱스>]\n",
    "\n",
    "...\n",
    "\n",
    "```"
   ]
  }
 ],
 "metadata": {
  "colab": {
   "collapsed_sections": [],
   "name": "pymodi_tutorial.ipynb",
   "provenance": [],
   "toc_visible": true
  },
  "kernelspec": {
   "display_name": "Python 3",
   "language": "python",
   "name": "python3"
  },
  "language_info": {
   "codemirror_mode": {
    "name": "ipython",
    "version": 3
   },
   "file_extension": ".py",
   "mimetype": "text/x-python",
   "name": "python",
   "nbconvert_exporter": "python",
   "pygments_lexer": "ipython3",
   "version": "3.7.3"
  }
 },
 "nbformat": 4,
 "nbformat_minor": 1
}
