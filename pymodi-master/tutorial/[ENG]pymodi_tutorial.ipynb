{
 "cells": [
  {
   "cell_type": "markdown",
   "metadata": {
    "colab_type": "text",
    "id": "AFGFdjz18Kb5"
   },
   "source": [
    "# PyMODI Beginner's Tutorial\n",
    "\n",
    "<img src=\"https://github.com/LUXROBO/pymodi/blob/master/docs/_static/img/logo.png?raw=true\" height=150 width=500>\n",
    "\n",
    "Welcome to PyMODI!!\n",
    "\n",
    "You can do many things."
   ]
  },
  {
   "cell_type": "markdown",
   "metadata": {
    "colab_type": "text",
    "id": "LheGlpYj9jI1"
   },
   "source": [
    "# Install PyMODI\n",
    "\n",
    "As long as you have python installed on your computer, a simple command using pip will work.\n",
    "\n",
    "    $ python -m pip install pymodi --user\n",
    "\n",
    "If you have cloned the git repository, you can also install by\n",
    "\n",
    "    $ python setup.py install --user\n",
    "    "
   ]
  },
  {
   "cell_type": "code",
   "execution_count": null,
   "metadata": {
    "colab": {
     "base_uri": "https://localhost:8080/",
     "height": 34
    },
    "colab_type": "code",
    "id": "h3buHb5D8lVb",
    "outputId": "c3215ee2-f971-4729-d66e-8599cf8b1214"
   },
   "outputs": [],
   "source": [
    "# Installing pymodi from current Jupyter Kernel\n",
    "import sys\n",
    "\n",
    "!{sys.executable} -m pip install pymodi\n",
    "    "
   ]
  },
  {
   "cell_type": "markdown",
   "metadata": {
    "colab_type": "text",
    "id": "wD8Kxz7N-Sxl"
   },
   "source": [
    "After installing pymodi, check if the it is installed correctly by printing out the current version of installed pymodi.\n",
    "Generally, importing modi package will automatically print out the version of your pymodi."
   ]
  },
  {
   "cell_type": "code",
   "execution_count": null,
   "metadata": {
    "colab": {
     "base_uri": "https://localhost:8080/",
     "height": 204
    },
    "colab_type": "code",
    "id": "DRLG6UiI-kJ8",
    "outputId": "5b6432c9-a4d7-4efb-fac8-7260559e47cb"
   },
   "outputs": [],
   "source": [
    "import modi"
   ]
  },
  {
   "cell_type": "markdown",
   "metadata": {},
   "source": [
    "Great! If modi package is successfully imported, you can use pymodi to control modules."
   ]
  },
  {
   "cell_type": "markdown",
   "metadata": {
    "colab_type": "text",
    "id": "U-Mx893m-6u1"
   },
   "source": [
    "# Python 101\n",
    "\n",
    "To use PyMODI package, it is always good to remind some of the basics of python."
   ]
  },
  {
   "cell_type": "markdown",
   "metadata": {},
   "source": [
    "### Hello World\n",
    "\n",
    "Printing out hello world is the basic of learning every language. In Python, you can make the program to print out something by just writing\n",
    "\n",
    "print([whatever you want])\n",
    "    \n",
    "Let's print out \"Hello World\" using python."
   ]
  },
  {
   "cell_type": "code",
   "execution_count": null,
   "metadata": {},
   "outputs": [],
   "source": [
    "print(\"Hello World\")"
   ]
  },
  {
   "cell_type": "markdown",
   "metadata": {},
   "source": [
    "### Variables\n",
    "\n",
    "In Python, the values you make can be stored in containers named variables. Variables are basically names of the containers that save your values. First, let's make a variable named num which contains the value 5."
   ]
  },
  {
   "cell_type": "code",
   "execution_count": null,
   "metadata": {},
   "outputs": [],
   "source": [
    "num = 5"
   ]
  },
  {
   "cell_type": "markdown",
   "metadata": {},
   "source": [
    "As long as you have declared a variable like this, whenever you call num, it will represent the value 5. For example, if you do num + 2, it will be 7, because you stored the value 5 in the container num."
   ]
  },
  {
   "cell_type": "code",
   "execution_count": null,
   "metadata": {},
   "outputs": [],
   "source": [
    "print(num + 2)"
   ]
  },
  {
   "cell_type": "markdown",
   "metadata": {},
   "source": [
    "What if you have quotation mark around your variables? "
   ]
  },
  {
   "cell_type": "code",
   "execution_count": null,
   "metadata": {},
   "outputs": [],
   "source": [
    "print(\"num\")"
   ]
  },
  {
   "cell_type": "markdown",
   "metadata": {},
   "source": [
    "Quotation marks mean that the value is a real text, not the variable. Any text that is not wrapped by quatation marks will be considered to have certain meaning."
   ]
  },
  {
   "cell_type": "markdown",
   "metadata": {},
   "source": [
    "### Conditional\n",
    "\n",
    "Sometimes, you might want to execute some action only when some condition is met. In Python, we can do such job using \"if\"-statements.\n",
    "\n",
    "Python syntax for the conditionals is as follows.\n",
    "\n",
    "```python\n",
    "if <Your Condition>:\n",
    "    <Your Code>\n",
    "```\n",
    "\n",
    "These are some of the conditions you can use in python.\n",
    "\n",
    "* Logical Values: True, False\n",
    "* == : Equal to - We use double = to distinguish from variable declaration.\n",
    "* \\> : Greater than\n",
    "* \\>= : Greater or equal\n",
    "* < : Less than\n",
    "* <= : Less or equal\n",
    "* not : negation\n",
    "\n",
    "For example, the following code will only execute the code when the value is bugger than 10."
   ]
  },
  {
   "cell_type": "code",
   "execution_count": null,
   "metadata": {},
   "outputs": [],
   "source": [
    "num = 5\n",
    "if num > 10:\n",
    "    print(num)\n",
    "num = 15\n",
    "if num > 10:\n",
    "    print(num)"
   ]
  },
  {
   "cell_type": "markdown",
   "metadata": {},
   "source": [
    "You can also chain multiple conditionals. if statement can be linked with \"elif\" statements which are executed when above conditions fail. If all the if and elif conditions fail, else statment is executed."
   ]
  },
  {
   "cell_type": "code",
   "execution_count": null,
   "metadata": {},
   "outputs": [],
   "source": [
    "num = 15\n",
    "if num > 15:\n",
    "    print(\"Bigger than 15!!\")\n",
    "elif num > 10:\n",
    "    print(\"Bigger than 10!!\")\n",
    "else:\n",
    "    print(\"Less than 10!!\")\n"
   ]
  },
  {
   "cell_type": "markdown",
   "metadata": {},
   "source": [
    "### Loops\n",
    "\n",
    "The power of computer is that it can do tedious jobs easily and quickly. For example, what if you want to add all the integers from 1 to 100? If you do it by hand, it will be boring and painful, but computers are extremely good at repetetive jobs. One way of repeating something is using a for loop."
   ]
  },
  {
   "cell_type": "markdown",
   "metadata": {},
   "source": [
    "#### \"For\" loop\n",
    "\n",
    "For loop is used when you want to do a fixed number of iterations. The syntax of the for loop is as follows."
   ]
  },
  {
   "cell_type": "code",
   "execution_count": null,
   "metadata": {},
   "outputs": [],
   "source": [
    "for i in range(10):\n",
    "    print(i)"
   ]
  },
  {
   "cell_type": "markdown",
   "metadata": {},
   "source": [
    "As you can see, it will iterate through values for i in range from 0 to 9, making it overall 10 iterations. If you want to do n number of iterations, you can simply do\n",
    "\n",
    "```python\n",
    "for i in range(n):\n",
    "    <your code>\n",
    "```"
   ]
  },
  {
   "cell_type": "markdown",
   "metadata": {},
   "source": [
    "Using the above method, you can easily add up all the numbers from 0 to 100"
   ]
  },
  {
   "cell_type": "code",
   "execution_count": null,
   "metadata": {},
   "outputs": [],
   "source": [
    "sum = 0 # Make a variable named \"sum\" and it starts from value 0\n",
    "for i in range(101): # This will iterate from 0 to 100\n",
    "    sum = sum + i # Add i to the current running sum\n",
    "\n",
    "print(sum) # Print the value of total sum"
   ]
  },
  {
   "cell_type": "markdown",
   "metadata": {},
   "source": [
    "#### \"While\" loop\n",
    "\n",
    "Another way of iteration is using a while loop. The syntax for the while loop is as follows.\n",
    "\n",
    "```python\n",
    "while <condition>:\n",
    "    <your code>\n",
    "```\n",
    "\n",
    "This loop will execute the code while the condition is True. Once the condition is False, it will break out of the loop."
   ]
  },
  {
   "cell_type": "code",
   "execution_count": null,
   "metadata": {},
   "outputs": [],
   "source": [
    "num = 0\n",
    "while num < 10: # While num is smaller than 10\n",
    "    print(num) # print the number\n",
    "    num = num + 1 # and increase num by 1"
   ]
  },
  {
   "cell_type": "markdown",
   "metadata": {},
   "source": [
    "You can also manually break out of the loop by the \"break\" statement"
   ]
  },
  {
   "cell_type": "code",
   "execution_count": null,
   "metadata": {},
   "outputs": [],
   "source": [
    "num = 0\n",
    "while True: # This runs forever\n",
    "    num = num + 1 # Increase num by 1\n",
    "    if num > 10: # If num is bigger than 10,\n",
    "        break # Break out of the loop\n",
    "print(num) # Print out the final value of num"
   ]
  },
  {
   "cell_type": "markdown",
   "metadata": {},
   "source": [
    "Let's do the addition with while loop this time! Complete the following code to correctly add all the numbers from 0 to 100."
   ]
  },
  {
   "cell_type": "code",
   "execution_count": null,
   "metadata": {},
   "outputs": [],
   "source": [
    "sum = 0\n",
    "\n",
    "while <condition>:\n",
    "    <do something>\n",
    "\n",
    "print(sum)"
   ]
  },
  {
   "cell_type": "markdown",
   "metadata": {},
   "source": [
    "# Your First PyMODI Script!!\n",
    "\n",
    "Now you can do python!! Using the skills you have learned above, you can control MODI modules using python.\n",
    "PyMODI Package offers basic functinality of each modules, which can be found on this document.\n",
    "https://pymodi.readthedocs.io/en/master/modi.module.html#subpackages\n",
    "\n",
    "Follow the below tutorial to make your first pymodi project!"
   ]
  },
  {
   "cell_type": "markdown",
   "metadata": {},
   "source": [
    "### Making a MODI Object\n",
    "\n",
    "#### Before you start, connect one led module and one button module\n",
    "\n",
    "When MODI modules are connected to your computer, you can control the modules by creating a MODI object.\n",
    "Let's make a MODI object named \"bundle.\""
   ]
  },
  {
   "cell_type": "code",
   "execution_count": null,
   "metadata": {
    "colab": {
     "base_uri": "https://localhost:8080/",
     "height": 545
    },
    "colab_type": "code",
    "id": "y1tH5JCT_AUx",
    "outputId": "d7461f3a-023d-4f12-ca7e-2a953b56f57e"
   },
   "outputs": [],
   "source": [
    "import modi\n",
    "\n",
    "bundle = modi.MODI()"
   ]
  },
  {
   "cell_type": "markdown",
   "metadata": {},
   "source": [
    "The MODI modules connected to the Network module will appear automatically. Once you make a MODI object, you can access the modules as follows."
   ]
  },
  {
   "cell_type": "code",
   "execution_count": null,
   "metadata": {},
   "outputs": [],
   "source": [
    "modules = bundle.modules\n",
    "print(modules)"
   ]
  },
  {
   "cell_type": "markdown",
   "metadata": {},
   "source": [
    "You can also access individual modules!"
   ]
  },
  {
   "cell_type": "code",
   "execution_count": null,
   "metadata": {},
   "outputs": [],
   "source": [
    "print(bundle.leds)\n",
    "print(bundle.buttons)"
   ]
  },
  {
   "cell_type": "markdown",
   "metadata": {},
   "source": [
    "You can access individual modules by specifying the index of the module."
   ]
  },
  {
   "cell_type": "code",
   "execution_count": null,
   "metadata": {},
   "outputs": [],
   "source": [
    "led = bundle.leds[0] # The first led module in bundle.leds\n",
    "button = bundle.buttons[0] # The first button module in bundle.buttons\n",
    "print(led)\n",
    "print(button)"
   ]
  },
  {
   "cell_type": "markdown",
   "metadata": {},
   "source": [
    "Great!! Now you have your led module and button module.\n",
    "You can make your button to show green light by changing led.green.\n",
    "\n",
    "The document explains how you can use led module.\n",
    "\n",
    "https://pymodi.readthedocs.io/en/master/modi.module.output_module.html#module-modi.module.output_module.led"
   ]
  },
  {
   "cell_type": "code",
   "execution_count": null,
   "metadata": {},
   "outputs": [],
   "source": [
    "led.green = 255 # Change the RGB value of green to 255\n"
   ]
  },
  {
   "cell_type": "markdown",
   "metadata": {},
   "source": [
    "You can also set the custom color."
   ]
  },
  {
   "cell_type": "code",
   "execution_count": null,
   "metadata": {},
   "outputs": [],
   "source": [
    "led.rgb = 148, 0, 211 # Set the RGB value to violet color rgb(148, 0, 211)"
   ]
  },
  {
   "cell_type": "markdown",
   "metadata": {},
   "source": [
    "Just changing the color is tedious. Let's make it blink 5 times!!"
   ]
  },
  {
   "cell_type": "code",
   "execution_count": null,
   "metadata": {},
   "outputs": [],
   "source": [
    "import time\n",
    "\n",
    "led.turn_off() # First, turn the led off\n",
    "\n",
    "for i in range(5): # 5 Times\n",
    "    led.blue = 255 # Set the color to blue\n",
    "    time.sleep(1) # Wait 1 second\n",
    "    led.turn_off() # Turn it off again\n",
    "    time.sleep(1) # Wait 1 second"
   ]
  },
  {
   "cell_type": "markdown",
   "metadata": {},
   "source": [
    "Let's make thing a bit more interesting. Using the button module, we can make a system in which led lights up whenever button is pressed."
   ]
  },
  {
   "cell_type": "code",
   "execution_count": null,
   "metadata": {},
   "outputs": [],
   "source": [
    "import time\n",
    "\n",
    "while True: # This runs forever\n",
    "    if button.pressed: # If your button is pressed,\n",
    "        led.turn_on() # Turn on the led\n",
    "    elif button.double_clicked: # or if button is double clicked,\n",
    "        break # Break out of the loop\n",
    "    else: # Otherwise,\n",
    "        led.turn_off() # Turn off the led\n",
    "    time.sleep(0.1) # Wait 0.1 seconds\n"
   ]
  },
  {
   "cell_type": "markdown",
   "metadata": {},
   "source": [
    "You can do even cooler things. Let's make a system in which the led shows green light when button is toggled and shows red light when button is not toggled."
   ]
  },
  {
   "cell_type": "code",
   "execution_count": null,
   "metadata": {},
   "outputs": [],
   "source": [
    "# Complete the following code\n",
    "\n",
    "import time\n",
    "\n",
    "while True:\n",
    "    if <condition>:\n",
    "        <do something>\n",
    "    else:\n",
    "        <do something>\n",
    "    \n",
    "    if button.double_clicked:\n",
    "        break\n",
    "    time.sleep(0.1)\n"
   ]
  }
 ],
 "metadata": {
  "colab": {
   "collapsed_sections": [],
   "name": "pymodi_tutorial.ipynb",
   "provenance": [],
   "toc_visible": true
  },
  "kernelspec": {
   "display_name": "Python 3",
   "language": "python",
   "name": "python3"
  },
  "language_info": {
   "codemirror_mode": {
    "name": "ipython",
    "version": 3
   },
   "file_extension": ".py",
   "mimetype": "text/x-python",
   "name": "python",
   "nbconvert_exporter": "python",
   "pygments_lexer": "ipython3",
   "version": "3.7.3"
  }
 },
 "nbformat": 4,
 "nbformat_minor": 1
}
